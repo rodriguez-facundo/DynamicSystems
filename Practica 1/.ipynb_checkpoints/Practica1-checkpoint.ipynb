{
 "cells": [
  {
   "cell_type": "markdown",
   "metadata": {},
   "source": [
    "# Neural Dynamics\n",
    "\n",
    "## 1. \n",
    "\n",
    "### Nernst's eq:\n",
    "\n",
    "\\begin{align*}\n",
    "\\Delta V &= \\frac{kT}{ne^-}\\ln{\\frac{I_{out}}{I_{in}}} \\\\\n",
    "\\end{align*}\n",
    "\\begin{align*}\n",
    "\\Bigg\\{ k  &= 8.6x10^{-5}\\frac{e^-V}{ºK}  &  T  &= 293.15ºK  &  n  &= 1 \\Bigg\\}\n",
    "\\end{align*}\n",
    "\n",
    "### Data:\n",
    "\n",
    "|ION|I_in|I_out|\n",
    "|-|-|-|\n",
    "|k<sup>+</sup>|430|20|\n",
    "|Na<sup>+</sup>|50|440|\n",
    "|Cl<sup>-</sup>|65|550|\n",
    "\n",
    "### So:\n",
    "\\begin{align}\n",
    "\\Delta V_{k} & = -77mV \\\\\n",
    "\\Delta V_{Na} & = +54,8mV \\\\\n",
    "\\Delta V_{Cl} & = -53.8mV \\\\\n",
    "\\end{align}"
   ]
  },
  {
   "attachments": {},
   "cell_type": "markdown",
   "metadata": {},
   "source": [
    "## 2.\n",
    "\n",
    "![alt text](https://github.com/rodriguez-facundo/DynamicSystems/blob/master/Practica%201/neuron.jpg)\n",
    "\n",
    "\\begin{align*}\n",
    "C \\Delta V &= \\Delta Q  &  Area &= 4 \\pi r^2  &  Volumen &= \\frac{4}{3} \\pi r^3  &  \\Delta V &= 100 mV \\\\  \n",
    "\\end{align*}\n",
    "\n",
    "\\begin{align*}\n",
    "Na^+Iones &= 1.8x10^7\\\\\n",
    "Na^+Molar &= 0.2 \\mu M\\\\\n",
    "\\end{align*}\n"
   ]
  },
  {
   "cell_type": "markdown",
   "metadata": {},
   "source": [
    "## 3.\n",
    "\n"
   ]
  },
  {
   "cell_type": "markdown",
   "metadata": {},
   "source": [
    "### Import Modules"
   ]
  },
  {
   "cell_type": "code",
   "execution_count": 1,
   "metadata": {},
   "outputs": [],
   "source": [
    "# by F. Rodriguez\n",
    "import numpy as np\n",
    "from matplotlib import pyplot as plt\n",
    "from scipy.integrate import RK23\n",
    "plt.style.use('seaborn-darkgrid')"
   ]
  },
  {
   "cell_type": "markdown",
   "metadata": {},
   "source": [
    "### Definitions"
   ]
  },
  {
   "cell_type": "code",
   "execution_count": 2,
   "metadata": {},
   "outputs": [],
   "source": [
    "# UNITS --> C : mF/cm^2   g : mS/cm^2     V : mV      i : uA/cm^2     t : msec\n",
    "\n",
    "# TIME PARAMETERS\n",
    "T = 40\n",
    "max_step = 1\n",
    "\n",
    "# INJECTED CURRENT PARAMETERS\n",
    "ext_current = np.arange(0, 40, 1)\n",
    "\n",
    "# INITIAL CONDITIONS\n",
    "init = [-65, 0.05, 0.95, 0.05]  # [V, m, h, n]\n",
    "\n",
    "# CONSTANTS\n",
    "C = 1.0;\n",
    "g_Na = 120.0;   g_K = 36.0;     g_l = 0.3\n",
    "V_Na = 50.0;    V_K = -77.0;    V_l = -54.387"
   ]
  },
  {
   "cell_type": "markdown",
   "metadata": {},
   "source": [
    "### Complementary functions"
   ]
  },
  {
   "cell_type": "code",
   "execution_count": 3,
   "metadata": {},
   "outputs": [],
   "source": [
    "# VOLTAGE GATED CHANNELS KINETIC\n",
    "def alpha_m(V): return 0.1*(V+40.0)/(1.0 - np.exp(-(V+40.0) / 10.0))\n",
    "def beta_m(V) : return 4.0*np.exp(-(V+65.0) / 18.0)\n",
    "def m_inf(V)  : return alpha_m(V) / (alpha_m(V)+beta_m(V))\n",
    "def alpha_h(V): return 0.07*np.exp(-(V+65.0) / 20.0)\n",
    "def beta_h(V) : return 1.0/(1.0 + np.exp(-(V+35.0) / 10.0))\n",
    "def h_inf(V)  : return alpha_h(V) / (alpha_h(V)-beta_h(V))\n",
    "def alpha_n(V): return 0.01*(V+55.0)/(1.0 - np.exp(-(V+55.0) / 10.0))\n",
    "def beta_n(V) : return 0.125*np.exp(-(V+65) / 80.0)\n",
    "def n_inf(V)  : return alpha_n(V) / (alpha_n(V)-beta_n(V))\n",
    "\n",
    "# MEMBRANE CURRENT\n",
    "def I_Na(V,m,h): return g_Na * m**3 * h * (V - V_Na)  # Soldium\n",
    "def I_K(V, n)  : return g_K * n**4 * (V - V_K)  # Potassium\n",
    "def I_l(V)     : return g_l * (V - V_l)  #Leak\n"
   ]
  },
  {
   "cell_type": "markdown",
   "metadata": {},
   "source": [
    "### Equations"
   ]
  },
  {
   "cell_type": "code",
   "execution_count": 4,
   "metadata": {},
   "outputs": [],
   "source": [
    "# ORDINARY DIFFERENTIAL EQUATIONS\n",
    "def ode4(t, y):\n",
    "    '''Full Hogdkin-Huxley'''\n",
    "    V, m, h, n = y\n",
    "    dVdt = (I_inj(t) - I_Na(V, m, h) - I_K(V, n) - I_l(V)) / C\n",
    "    dmdt = alpha_m(V)*(1.0-m) - beta_m(V)*m\n",
    "    dhdt = alpha_h(V)*(1.0-h) - beta_h(V)*h\n",
    "    dndt = alpha_n(V)*(1.0-n) - beta_n(V)*n\n",
    "    return dVdt, dmdt, dhdt, dndt\n",
    "\n",
    "def ode3(t, y):\n",
    "    '''m_inf(V) = m(t)'''\n",
    "    V, h, n = y\n",
    "    dVdt = (I_inj(t) - I_Na(V, m_inf(V), h) - I_K(V, n) - I_l(V)) / C\n",
    "    dhdt = alpha_h(V)*(1.0-h) - beta_h(V)*h\n",
    "    dndt = alpha_n(V)*(1.0-n) - beta_n(V)*n\n",
    "    return dVdt, dhdt, dndt\n",
    "\n",
    "def ode2(t, y):\n",
    "    '''Instant m kinetic plus n + h = cte'''\n",
    "    V, n = y\n",
    "    h = 0.84438 - n\n",
    "    dVdt = (I_inj(t) - I_Na(V, m_inf(V), h) - I_K(V, n) - I_l(V)) / C\n",
    "    dndt = alpha_n(V)*(1.0-n) - beta_n(V)*n\n",
    "    return dVdt, dndt\n",
    "\n",
    "# find frequency from voltage\n",
    "def find_frequency(Voltage, time):\n",
    "    peaks = np.where(np.diff(np.sign(Voltage)))[0]\n",
    "    return 1.e3 / (time[peaks[-1]]-time[peaks[-3]]) if len(peaks)>3 else 0"
   ]
  },
  {
   "cell_type": "markdown",
   "metadata": {},
   "source": [
    "### Solve with R-K method"
   ]
  },
  {
   "cell_type": "code",
   "execution_count": 5,
   "metadata": {},
   "outputs": [],
   "source": [
    "frequency = [list() for i in range(3)]\n",
    "# SOLVE HH-MODELS\n",
    "for stimulus in ext_current:\n",
    "    # EXTERNAL CURRENT\n",
    "    def I_inj(t): return stimulus\n",
    "\n",
    "    # INTEGRATION METHOD\n",
    "    X = [   RK23(ode4, t0=0.00, y0=init, t_bound=T, max_step=max_step),\n",
    "            RK23(ode3, t0=0.00, y0=[-65, 0.95, 0.05], t_bound=T, max_step=max_step),\n",
    "            RK23(ode2, t0=0.00, y0=[-65, 0.05], t_bound=T, max_step=max_step)\n",
    "            ]\n",
    "\n",
    "    for i, x in enumerate(X):\n",
    "        # restart variables\n",
    "        time = [0]\n",
    "        output = [x.y]\n",
    "\n",
    "        # Solve full HH-model\n",
    "        while x.status=='running':\n",
    "            x.step()\n",
    "            time.append(x.t)\n",
    "            output.append(x.y)\n",
    "        output = np.array(output)\n",
    "\n",
    "        # Frecuency for this imput current\n",
    "        frequency[i].append(find_frequency(output[:,0], time))\n"
   ]
  },
  {
   "cell_type": "markdown",
   "metadata": {},
   "source": [
    "### Plot"
   ]
  },
  {
   "cell_type": "code",
   "execution_count": 6,
   "metadata": {},
   "outputs": [
    {
     "data": {
      "image/png": "[encoded data removed]",
      "text/plain": [
       "<matplotlib.figure.Figure at 0x1111257f0>"
      ]
     },
     "metadata": {},
     "output_type": "display_data"
    }
   ],
   "source": [
    "plt.title('Hogdking-Huxley models')\n",
    "plt.plot(ext_current, frequency[0], label='Full')\n",
    "plt.plot(ext_current, frequency[1], label='$m_{inf}=m_{(t)}$')\n",
    "plt.plot(ext_current, frequency[2], label='$m_{inf}=m_{(t)} \\quad and \\quad h+n=cte$')\n",
    "plt.xlabel('Stimulus ($m{A}/cm^2$)')\n",
    "plt.ylabel('Frequency (Hz)')\n",
    "plt.legend()\n",
    "plt.show()"
   ]
  },
  {
   "cell_type": "markdown",
   "metadata": {},
   "source": [
    "### View"
   ]
  },
  {
   "attachments": {},
   "cell_type": "markdown",
   "metadata": {},
   "source": [
    "![alt text](https://github.com/rodriguez-facundo/DynamicSystems/blob/master/Practica%201/Figure_1.png)"
   ]
  },
  {
   "cell_type": "markdown",
   "metadata": {},
   "source": [
    "## 4."
   ]
  },
  {
   "cell_type": "code",
   "execution_count": 7,
   "metadata": {},
   "outputs": [],
   "source": [
    "# HYPERPOLARIZATION FIRING EXAMPLE\n",
    "def I_inj(t): return -4*(t>40) + 4*(t>140)\n",
    "\n",
    "# INTEGRATION METHOD\n",
    "X4 = RK23(ode4, t0=0.00, y0=init, t_bound=200, max_step=max_step)\n",
    "\n",
    "# restart variables\n",
    "time = [0];   output = [X4.y]\n",
    "\n",
    "# iterate\n",
    "while X4.status=='running':\n",
    "    X4.step()\n",
    "    time.append(X4.t)\n",
    "    output.append(X4.y)\n",
    "\n",
    "output = np.array(output)"
   ]
  },
  {
   "cell_type": "markdown",
   "metadata": {},
   "source": [
    "### Plot"
   ]
  },
  {
   "cell_type": "code",
   "execution_count": 8,
   "metadata": {},
   "outputs": [
    {
     "data": {
      "image/png": "[encoded data removed]",
      "text/plain": [
       "<matplotlib.figure.Figure at 0x11162cdd8>"
      ]
     },
     "metadata": {},
     "output_type": "display_data"
    }
   ],
   "source": [
    "plt.title(\"Hyperpolarization firing\")\n",
    "plt.plot(time, output[:,0], 'b', label=\"Voltage (mV)\")\n",
    "plt.plot(time, [I_inj(i) for i in time], 'r', label='Current $m{A}/cm^2$')\n",
    "plt.legend()\n",
    "plt.xlabel(\"Time $m{s}$\")\n",
    "plt.ylabel(\"Units\")\n",
    "plt.show()"
   ]
  },
  {
   "cell_type": "markdown",
   "metadata": {},
   "source": [
    "### Result"
   ]
  },
  {
   "attachments": {},
   "cell_type": "markdown",
   "metadata": {},
   "source": [
    "![alt text](https://github.com/rodriguez-facundo/DynamicSystems/blob/master/Practica%201/Figure_2.png)"
   ]
  }
 ],
 "metadata": {
  "celltoolbar": "Attachments",
  "kernelspec": {
   "display_name": "Python 3",
   "language": "python",
   "name": "python3"
  },
  "language_info": {
   "codemirror_mode": {
    "name": "ipython",
    "version": 3
   },
   "file_extension": ".py",
   "mimetype": "text/x-python",
   "name": "python",
   "nbconvert_exporter": "python",
   "pygments_lexer": "ipython3",
   "version": "3.6.3"
  }
 },
 "nbformat": 4,
 "nbformat_minor": 2
}
